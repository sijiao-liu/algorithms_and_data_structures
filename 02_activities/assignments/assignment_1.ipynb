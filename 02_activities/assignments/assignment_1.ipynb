{
 "cells": [
  {
   "cell_type": "markdown",
   "metadata": {},
   "source": [
    "# Coding Problems\n",
    "\n",
    "## Objective\n",
    "\n",
    "This assignment aims to demonstrate how to study a data structures or algorithms question in depth to prepare for an industry coding interview. Leetcode is a popular coding practice site that many use to practice for technical interviews. Like behavioral interviews, it's important to practice and keep your skills sharp.\n",
    "\n",
    "## Group Size\n",
    "\n",
    "Please complete this individually.\n",
    "\n",
    "## Part 1:\n",
    "\n",
    "_*You will be assigned one of three problems based of your first name. Execute the code below, and that will tell you your assigned problem. Include the output as part of your submission (do not clear the output). The problems are based-off problems from Leetcode.*_\n"
   ]
  },
  {
   "cell_type": "code",
   "execution_count": 1,
   "metadata": {},
   "outputs": [
    {
     "name": "stdout",
     "output_type": "stream",
     "text": [
      "3\n"
     ]
    }
   ],
   "source": [
    "print((hash('Si Jiao') % 3) + 1)"
   ]
  },
  {
   "cell_type": "markdown",
   "metadata": {},
   "source": [
    "<details>\n",
    "  <summary>Question 1</summary>\n",
    "\n",
    "  # Question One: Check Duplicates in Tree\n",
    "\n",
    "  Given the `root` of a binary tree, check whether it is contains a duplicate value. If a duplicate exists, return the duplicate value. If there are multiple duplicates, return the one with the closest distance to the root. If no duplicate exists, return -1.\n",
    "\n",
    "  ## Examples\n",
    "\n",
    "  ### Example 1\n",
    "\n",
    "  ![](./images/q1_ex1.png)\n",
    "\n",
    "  Input: `root = [1, 2, 2, 3, 5, 6, 7]` *What traversal method is this?*\n",
    "\n",
    "  Output: 2\n",
    "\n",
    "  ### Example 2\n",
    "\n",
    "  ![](./images/q1_ex2.png)\n",
    "\n",
    "  Input: `root = [1, 10, 2, 3, 10, 12, 12]`\n",
    "\n",
    "  Output: 10\n",
    "\n",
    "  ### Example 3\n",
    "\n",
    "  ![](./images/q1_ex3.png)\n",
    "\n",
    "  Input: `root = [10, 9, 8, 7]`\n",
    "\n",
    "  Output: -1\n",
    "\n",
    "</details>\n",
    "\n",
    "#### Starter Code for Question 1"
   ]
  },
  {
   "cell_type": "code",
   "execution_count": null,
   "metadata": {},
   "outputs": [],
   "source": [
    "# Definition for a binary tree node.\n",
    "# class TreeNode(object):\n",
    "#     def __init__(self, val = 0, left = None, right = None):\n",
    "#         self.val = val\n",
    "#         self.left = left\n",
    "#         self.right = right\n",
    "def is_duplicate(root: TreeNode) -> int:\n",
    "  # TODO"
   ]
  },
  {
   "cell_type": "markdown",
   "metadata": {},
   "source": [
    "<details>\n",
    "  <summary>Question 2</summary>\n",
    "\n",
    "  # Question Two: Path to Leaves\n",
    "\n",
    "  Given the `root` of a binary tree, return all root to leaf paths in any order.\n",
    "\n",
    "  ## Examples\n",
    "\n",
    "  ### Example 1\n",
    "\n",
    "  ![](./images/q1_ex1.png)\n",
    "\n",
    "  Input: `root = [1, 2, 2, 3, 5, 6, 7]` *What traversal method is this?*\n",
    "\n",
    "  Output: [[1, 2, 3], [1, 2, 5], [1, 2, 6], [1, 2, 7]]\n",
    "\n",
    "  ### Example 2\n",
    "\n",
    "  ![](./images/q1_ex3.png)\n",
    "\n",
    "  Input: `root = [10, 9, 7, 8]`\n",
    "\n",
    "  Output: [[10, 7], [10, 9, 8]]\n",
    "\n",
    "</details>\n",
    "\n",
    "#### Starter Code for Question 2"
   ]
  },
  {
   "cell_type": "code",
   "execution_count": null,
   "metadata": {},
   "outputs": [],
   "source": [
    "# Definition for a binary tree node.\n",
    "# class TreeNode(object):\n",
    "#     def __init__(self, val = 0, left = None, right = None):\n",
    "#         self.val = val\n",
    "#         self.left = left\n",
    "#         self.right = right\n",
    "def bt_path(root: TreeNode) -> List[List[int]]:\n",
    "  # TODO"
   ]
  },
  {
   "cell_type": "markdown",
   "metadata": {},
   "source": [
    "<details>\n",
    "  <summary>Question 3</summary>\n",
    "\n",
    "  # Question Three: Missing Number in Range\n",
    " \n",
    "  You are given a list containing `n` integers in the range `[0, n]`. Return a list of numbers that are missing from the range `[0, n]` of the array. If there is no missing number, return -1. Note, all the integers in the list may not be unique.\n",
    "  \n",
    "  ## Examples\n",
    "\n",
    "  ### Example 1\n",
    "\n",
    "  Input: `lst = [0, 2]`\n",
    "\n",
    "  Output: [1]\n",
    "\n",
    "  ### Example 2\n",
    "\n",
    "  Input: `lst = [5, 0, 1]`\n",
    "\n",
    "  Output: [2, 3, 4]\n",
    "\n",
    "  ### Example 3\n",
    "\n",
    "  Input: `lst = [6, 8, 2, 3, 5, 7, 0, 1, 10]`\n",
    "\n",
    "  Output: [4, 9]\n",
    "\n",
    "</details>\n",
    "\n",
    "#### Starter Code for Question 3\n"
   ]
  },
  {
   "cell_type": "code",
   "execution_count": null,
   "metadata": {},
   "outputs": [],
   "source": [
    "def missing_num(nums: List) -> int:\n",
    "  # TODO"
   ]
  },
  {
   "cell_type": "markdown",
   "metadata": {},
   "source": [
    "- Code the solution to your assigned problem in Python (code chunk)."
   ]
  },
  {
   "cell_type": "code",
   "execution_count": 2,
   "metadata": {},
   "outputs": [],
   "source": [
    "from typing import List\n",
    "\n",
    "def missing_num(nums: List[int]) -> List[int]:\n",
    "    \n",
    "    # Step 1: Handle empty input edge case - addresses the special case where the input list itself is empty\n",
    "    if not nums: \n",
    "        return -1\n",
    "    \n",
    "    # Step 2: Determine the range\n",
    "    ## Step 2.1: Find the maximum number in the input list\n",
    "    max_value = max(nums)\n",
    "\n",
    "    # Step 2.2: Create a set of all numbers from 0 to max_value \n",
    "    complete_set = set(range(max_value + 1))\n",
    "\n",
    "    # Step 3: Create a set of the numbers in the input list (eliminates duplicates)\n",
    "    nums_set = set(nums)\n",
    "\n",
    "    # Step 4: Find the difference between the two sets to get the missing numbers\n",
    "    missing_numbers = list(complete_set - nums_set)\n",
    "\n",
    "    # Step 5: Sort the missing numbers in ascending order\n",
    "    missing_numbers.sort()\n",
    "\n",
    "    # Step 6: Return the result - handles cases where missing_value is empty b/c the input already contains all the numbers in the range [0, max(nums)]\n",
    "    return missing_numbers if missing_numbers else -1\n"
   ]
  },
  {
   "cell_type": "markdown",
   "metadata": {},
   "source": [
    "- Check the three examples provided previously"
   ]
  },
  {
   "cell_type": "code",
   "execution_count": 3,
   "metadata": {},
   "outputs": [
    {
     "name": "stdout",
     "output_type": "stream",
     "text": [
      "[1]\n"
     ]
    }
   ],
   "source": [
    "# Example 1\n",
    "lst1 = [0, 2]\n",
    "print(missing_num(lst1))  # Output: [1]"
   ]
  },
  {
   "cell_type": "code",
   "execution_count": 4,
   "metadata": {},
   "outputs": [
    {
     "name": "stdout",
     "output_type": "stream",
     "text": [
      "[2, 3, 4]\n"
     ]
    }
   ],
   "source": [
    "# Example 2\n",
    "lst2 = [5, 0, 1]\n",
    "print(missing_num(lst2))  # Output: [2, 3, 4]"
   ]
  },
  {
   "cell_type": "code",
   "execution_count": 5,
   "metadata": {},
   "outputs": [
    {
     "name": "stdout",
     "output_type": "stream",
     "text": [
      "[4, 9]\n"
     ]
    }
   ],
   "source": [
    "# Example 3\n",
    "lst3 = [6, 8, 2, 3, 5, 7, 0, 1, 10]\n",
    "print(missing_num(lst3))  # Output: [4, 9]"
   ]
  },
  {
   "cell_type": "markdown",
   "metadata": {},
   "source": [
    "\n",
    "## Part 2:\n",
    "\n",
    "-   Paraphrase the problem in your own words\n"
   ]
  },
  {
   "cell_type": "markdown",
   "metadata": {},
   "source": [
    "> I'm given a list of integers where the values can range from `0` to the largest number in the list.  \n",
    "> My task is to identify which numbers from this range are missing from the list. Note that the input list may contain duplicate numbers.\n",
    "> - If all numbers in the range are present, then return `-1`.\n",
    "> - If the input entered is an empty list, then return `-1`."
   ]
  },
  {
   "cell_type": "markdown",
   "metadata": {},
   "source": [
    "- In this .ipynb file, there are examples that illustrate how the code should work (the examples provided above). Create 2 new examples for the question you have been assigned, that demonstrate you understand the problem. For question 1 and 2, you don't need to create the tree demonstration, just the input and output.\n"
   ]
  },
  {
   "cell_type": "code",
   "execution_count": 6,
   "metadata": {},
   "outputs": [
    {
     "name": "stdout",
     "output_type": "stream",
     "text": [
      "-1\n"
     ]
    }
   ],
   "source": [
    "# Example 4\n",
    "lst4 = []\n",
    "print(missing_num(lst4))  # Output: -1"
   ]
  },
  {
   "cell_type": "code",
   "execution_count": 7,
   "metadata": {},
   "outputs": [
    {
     "name": "stdout",
     "output_type": "stream",
     "text": [
      "-1\n"
     ]
    }
   ],
   "source": [
    "# Example 5 - ExEdge Case\n",
    "lst5 = [0, 1, 2, 3]\n",
    "print(missing_num(lst5))  # Output: -1"
   ]
  },
  {
   "cell_type": "code",
   "execution_count": 8,
   "metadata": {},
   "outputs": [
    {
     "name": "stdout",
     "output_type": "stream",
     "text": [
      "[0, 1, 2, 3, 4, 5, 6, 7, 8, 9, 13]\n"
     ]
    }
   ],
   "source": [
    "# Example 6\n",
    "lst6 = [10, 11, 12, 14, 15]\n",
    "print(missing_num(lst6))  # Output: [0, 1, 2, 3, 4, 5, 6, 7, 8, 9, 13]"
   ]
  },
  {
   "cell_type": "markdown",
   "metadata": {},
   "source": [
    "\n",
    "-   Code the solution to your assigned problem in Python (code chunk). Try to find the best time and space complexity solution!\n"
   ]
  },
  {
   "cell_type": "code",
   "execution_count": 9,
   "metadata": {},
   "outputs": [],
   "source": [
    "from typing import List\n",
    "\n",
    "def missing_num(nums: List[int]) -> List[int]:\n",
    "    \n",
    "    # Step 1: Handle empty input edge case - addresses the special case where the input list itself is empty\n",
    "    if not nums: \n",
    "        return -1\n",
    "\n",
    "    # Step 2: Find the maximum number in the input list\n",
    "    max_value = max(nums)\n",
    "\n",
    "    # Step 3: Track seen numbers\n",
    "    # Step 3.1: Use a boolean array to track seen numbers\n",
    "    seen = [False] * (max_value + 1)\n",
    "\n",
    "    # Step 3.2: Mark the numbers that are present\n",
    "    for num in nums:\n",
    "        if 0 <= num <= max_value:\n",
    "            seen[num] = True\n",
    "\n",
    "    # Step 4: Find the missing numbers by checking the boolean array\n",
    "    missing_numbers = [ i for i in range(max_value + 1) if not seen[i] ]\n",
    "\n",
    "    # Step 5: Return the result - if missing_value is empty, return -1 \n",
    "    return missing_numbers if missing_numbers else -1"
   ]
  },
  {
   "cell_type": "code",
   "execution_count": null,
   "metadata": {},
   "outputs": [
    {
     "name": "stdout",
     "output_type": "stream",
     "text": [
      "-1\n"
     ]
    }
   ],
   "source": [
    "# Example 4\n",
    "lst4_optimal = []\n",
    "print(missing_num(lst4_optimal))  # Output: -1"
   ]
  },
  {
   "cell_type": "code",
   "execution_count": null,
   "metadata": {},
   "outputs": [
    {
     "name": "stdout",
     "output_type": "stream",
     "text": [
      "-1\n"
     ]
    }
   ],
   "source": [
    "# Example 5 - ExEdge Case\n",
    "lst5_optimal = [0, 1, 2, 3]\n",
    "print(missing_num(lst5_optimal))  # Output: -1"
   ]
  },
  {
   "cell_type": "code",
   "execution_count": null,
   "metadata": {},
   "outputs": [
    {
     "name": "stdout",
     "output_type": "stream",
     "text": [
      "[0, 1, 2, 3, 4, 5, 6, 7, 8, 9, 13]\n"
     ]
    }
   ],
   "source": [
    "# Example 6\n",
    "lst6_copy = [10, 11, 12, 14, 15]\n",
    "print(missing_num(lst6_optimal))  # Output: [0, 1, 2, 3, 4, 5, 6, 7, 8, 9, 13]"
   ]
  },
  {
   "cell_type": "markdown",
   "metadata": {},
   "source": [
    "\n",
    "-   Explain why your solution works\n"
   ]
  },
  {
   "cell_type": "markdown",
   "metadata": {},
   "source": [
    "> My solution\n",
    "> 1. **Covers the Entire Range:**\n",
    ">    + By using `max(nums)` to determine the range `[0, max(nums)]`, the solution ensures that all possible numbers in this range are considered.\n",
    "> 2. **Efficient Tracking with Boolean Array:**\n",
    ">    + The boolean array `seen` allows us to efficiently mark and check whether each number is present, with constant time operations (`O(1)` for each number).\n",
    "> 3. **Accurate Identification of Missing Numbers:**\n",
    ">    + The `seen` array directly corresponds to the range `[0, max(nums)]`. Any index in the array that is still `False` represents a missing number.\n",
    "> 4. **Handles Edge Cases:**\n",
    ">    + **Empty List:** Directly returns `-1` without unnecessary computations.\n",
    ">    + **Complete Range:** Returns `-1` when no numbers are missing.\n",
    ">    + **Large Ranges with Duplicates:** Duplicates in the input list do not affect the correctness since each number is only marked once in the boolean array."
   ]
  },
  {
   "cell_type": "markdown",
   "metadata": {},
   "source": [
    "\n",
    "-   Explain the problem’s time and space complexity\n"
   ]
  },
  {
   "cell_type": "markdown",
   "metadata": {},
   "source": [
    "> Optimized Time and Space Complexity:\n",
    "> - **Time Complexity:**\n",
    ">    + Making the numbers in the boolean array: `O(n)`, where `n` is the length of the input list.\n",
    ">    + Iterating through the boolean array to find missing numbers: `O(max_value)`.\n",
    ">    + Total: `O(n + max_value)`.\n",
    "> - **Space Complexity:**\n",
    ">    + Boolean array: `O(max_value)`"
   ]
  },
  {
   "cell_type": "markdown",
   "metadata": {},
   "source": [
    "\n",
    "-   Explain the thinking to an alternative solution (no coding required, but a classmate reading this should be able to code it up based off your text)\n"
   ]
  },
  {
   "cell_type": "markdown",
   "metadata": {},
   "source": [
    "> **Overall Idea of the Alternative Solution:** Sorting and Two-Pointer Approach  \n",
    "> - **Sort the input list** to bring all numbers in order.\n",
    "> - **Iterate over the range** `[0, max(nums)]` and compare each number with elements in the sorted list.\n",
    "> - **Use two pointers:**\n",
    ">    + One pointer (`i`) for the numbers in the range `[0, max(nums)]`.\n",
    ">    + Another pointer (`j`) for iterating through the sorted list `nums`.\n",
    "> - **Identify missing numbers** by comparing values at these pointers.\n",
    ">\n",
    "> **Detailed Steps:**\n",
    "> 1. **Handle Edge Case: Empty Input**\n",
    ">    - If the input list `nums` is empty:\n",
    ">        + Returns `-1` immediately because there are no numbers to compare.\n",
    "> 2. **Sort the Input List**\n",
    ">    - Sort `nums` in ascending order.\n",
    ">        + This organizes the numbers and brings duplicates together.\n",
    ">        + Sorting is done in-place to save space if allowed.\n",
    "> 3. **Initialize Variables**\n",
    ">    - `missing_numbers`: An empty list to store missing numbers.\n",
    ">    - `max_value`: The maximum value in `nums`, found using `max(nums)`.\n",
    ">    - `length`: The length of the sorted list `nums`.\n",
    ">    - `j = 0`: Index pointer for iterating through `nums`.\n",
    "> 4. **Iterate Over the Range** `max[0, max_value]`\n",
    ">    - For each number `i` from `0` to `max_value` inclusive:\n",
    ">        + **Skip Duplicates in** `nums`**:**\n",
    ">            * While `j + 1 < length` and `nums[j] == nums[j + 1]`:\n",
    ">                - Increment `j` to skip over duplicate numbers.\n",
    ">        + **Compare** `i`**with** `nums[j]`**:**\n",
    ">            * If `j < length` and `nums[j] == i`:\n",
    ">                - The number `i` exists in `nums`.\n",
    ">                - Increment `j` to move to the next number in `nums`.\n",
    ">            * Else:\n",
    ">                - The number `i` is missing from `nums`.\n",
    ">                - Append `j` to `missing_numbers`.\n",
    "> 5. **Return the Result**\n",
    ">    - After iterating through the entire range:\n",
    ">        + if `missing_numbers` is empty:\n",
    ">            * Return `-1` (all numbers are present).\n",
    ">        + Else:\n",
    ">            * Return `missing_numbers` sorted in ascending order.\n"
   ]
  },
  {
   "cell_type": "markdown",
   "metadata": {},
   "source": [
    "<details>\n",
    "  <summary>Answer</summary>\n",
    "\n",
    "```python\n",
    "def missing_num(nums):  \n",
    "    if not nums:  \n",
    "        return -1\n",
    "\n",
    "    nums.sort()  \n",
    "    missing_numbers = []  \n",
    "    max_value = max(nums)  \n",
    "    length = len(nums)  \n",
    "    j = 0  \n",
    "\n",
    "    for i in range(max_value + 1):  \n",
    "        # Skip duplicates in nums  \n",
    "        while j + 1 < length and nums[j] == nums[j + 1]:  \n",
    "            j += 1  \n",
    "\n",
    "        if j < length and nums[j] == i:  \n",
    "            j += 1  # Move to the next number in nums  \n",
    "        else:  \n",
    "            missing_numbers.append(i)  # i is missing  \n",
    "\n",
    "    return missing_numbers if missing_numbers else -1  \n",
    "```\n",
    "</details>"
   ]
  },
  {
   "cell_type": "markdown",
   "metadata": {},
   "source": [
    "## Evaluation Criteria\n",
    "\n",
    "-   Problem is accurately stated\n",
    "\n",
    "-   Two examples are correct and easily understandable\n",
    "\n",
    "-   Correctness, time, and space complexity of the coding solution\n",
    "\n",
    "-   Clarity in explaining why the solution works, its time and space complexity\n",
    "\n",
    "-   Clarity in the proposal to the alternative solution"
   ]
  },
  {
   "cell_type": "markdown",
   "metadata": {},
   "source": [
    "## Submission Information\n",
    "\n",
    "🚨 **Please review our [Assignment Submission Guide](https://github.com/UofT-DSI/onboarding/blob/main/onboarding_documents/submissions.md)** 🚨 for detailed instructions on how to format, branch, and submit your work. Following these guidelines is crucial for your submissions to be evaluated correctly.\n",
    "\n",
    "### Submission Parameters:\n",
    "* Submission Due Date: `HH:MM AM/PM - DD/MM/YYYY`\n",
    "* The branch name for your repo should be: `assignment-1`\n",
    "* What to submit for this assignment:\n",
    "    * This Jupyter Notebook (assignment_1.ipynb) should be populated and should be the only change in your pull request.\n",
    "* What the pull request link should look like for this assignment: `https://github.com/<your_github_username>/algorithms_and_data_structures/pull/<pr_id>`\n",
    "    * Open a private window in your browser. Copy and paste the link to your pull request into the address bar. Make sure you can see your pull request properly. This helps the technical facilitator and learning support staff review your submission easily.\n",
    "\n",
    "Checklist:\n",
    "- [ ] Create a branch called `assignment-1`.\n",
    "- [ ] Ensure that the repository is public.\n",
    "- [ ] Review [the PR description guidelines](https://github.com/UofT-DSI/onboarding/blob/main/onboarding_documents/submissions.md#guidelines-for-pull-request-descriptions) and adhere to them.\n",
    "- [ ] Verify that the link is accessible in a private browser window.\n",
    "\n",
    "If you encounter any difficulties or have questions, please don't hesitate to reach out to our team via our Slack at `#cohort-3-help`. Our Technical Facilitators and Learning Support staff are here to help you navigate any challenges."
   ]
  }
 ],
 "metadata": {
  "kernelspec": {
   "display_name": "dsi_participant",
   "language": "python",
   "name": "python3"
  },
  "language_info": {
   "codemirror_mode": {
    "name": "ipython",
    "version": 3
   },
   "file_extension": ".py",
   "mimetype": "text/x-python",
   "name": "python",
   "nbconvert_exporter": "python",
   "pygments_lexer": "ipython3",
   "version": "3.9.15"
  }
 },
 "nbformat": 4,
 "nbformat_minor": 2
}
