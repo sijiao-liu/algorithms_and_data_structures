{
 "cells": [
  {
   "cell_type": "markdown",
   "metadata": {},
   "source": [
    "# Practice Interview\n",
    "\n",
    "## Objective\n",
    "\n",
    "_*The partner assignment aims to provide participants with the opportunity to practice coding in an interview context. You will analyze your partner's Assignment 1. Moreover, code reviews are common practice in a software development team. This assignment should give you a taste of the code review process.*_\n",
    "\n",
    "## Group Size\n",
    "\n",
    "Each group should have 2 people. You will be assigned a partner\n",
    "\n",
    "## Part 1:\n",
    "\n",
    "You and your partner must share each other's Assignment 1 submission."
   ]
  },
  {
   "cell_type": "markdown",
   "metadata": {},
   "source": [
    "\n",
    "## Part 2:\n",
    "\n",
    "Create a Jupyter Notebook, create 6 of the following headings, and complete the following for your partner's assignment 1:\n",
    "\n",
    "-   Paraphrase the problem in your own words.\n"
   ]
  },
  {
   "cell_type": "markdown",
   "metadata": {},
   "source": [
    "<div style=\"background-color: #f0f8ff; padding: 10px; border-radius: 5px;\">\n",
    "\n",
    "### Problem Statement\n",
    "Given the root of a binary tree, we were tasked to find and return all the paths that start from the root and end at each leaf node. \n",
    "- A leaf node is defined as a node that does not have any left or right children.\n",
    "- Each path should be represented as a list/sequence of node values (integers - represent the values of the nodes from the root to the leaf), starting from the root and going down to a leaf note\n",
    "    + All the paths should be collected in a list of lists.\n",
    "    + The order of the paths in the output does not matter.\n",
    "\n",
    "</div>"
   ]
  },
  {
   "cell_type": "markdown",
   "metadata": {},
   "source": [
    "\n",
    "-   Create 1 new example that demonstrates you understand the problem. Trace/walkthrough 1 example that your partner made and explain it.\n"
   ]
  },
  {
   "cell_type": "markdown",
   "metadata": {},
   "source": [
    "<div style=\"background-color: #f0f8ff; padding: 10px; border-radius: 5px;\">\n",
    "\n",
    "### Here is my example - to demonstrate that I understand the problem\n",
    "#### Example:\n",
    "```\n",
    "      7\n",
    "     / \\\n",
    "    3   9\n",
    "   /   / \\\n",
    "  1   8   12\n",
    "         /\n",
    "        10\n",
    "```\n",
    "**Input**\n",
    "- Option 1. `root = [7, 3, 9, 1, None, 8, 12, None, None, None, None, 10, None]`\n",
    "    + Better for explicit and theoretical representations of the tree.\n",
    "    + Useful when debugging or when structural clarity is essential.\n",
    "- Option 2. `root = [7, 3, 9, 1, None, 8, 12, None, None, 10]`\n",
    "    + Preferred in competitive programming or practical problem-solving where **efficiency is key**.\n",
    "    + It avoids redundant `None` values and works for tools that assume missing nodes implicitly.\n",
    "\n",
    "**Expected Output:** `[[7, 3, 1], [7, 9, 8], [7, 9, 12, 10]]`\n",
    "\n",
    "</div>"
   ]
  },
  {
   "cell_type": "markdown",
   "metadata": {},
   "source": [
    "<div style=\"background-color: #f0f8ff; padding: 10px; border-radius: 5px;\">\n",
    "\n",
    "### Tracing Example 1 from Charles Colaco's assignment 1\n",
    "#### Example:\n",
    "```\n",
    "      5\n",
    "     / \\\n",
    "    3   8\n",
    "   / \\ / \\\n",
    "  1  4 7  9\n",
    "```\n",
    "**Input**: `root = [5, 3, 8, 1, 4, 7, 9]`\n",
    "\n",
    "**Expected Output:** `[[5, 3, 1], [5, 3, 4], [5, 8, 7], [5, 8, 9]]`\n",
    "\n",
    "#### Traversal:\n",
    "1. **Start at the root** (`5`):\n",
    "    - Current path: [`5`].\n",
    "2. **Go left to node** `3`:\n",
    "    - Current path: `[5, 3]`.\n",
    "3. **Go left to node** `1`:\n",
    "    - Current path: `[5, 3, 1]`.\n",
    "    - `1` is a leaf node, so this path is added to the result: `[[5, 3, 1]]`.\n",
    "\n",
    "4. **Backtrack to node** `3` **and go right to node** `4`:\n",
    "    - Current path: `[5, 3, 4]`.\n",
    "    - `4` is a leaf node, so this path is added to the result: `[[5, 3, 1], [5, 3, 4]]`.\n",
    "\n",
    "5. **Backtrack to node** `5` **and go right to node** `8`:\n",
    "    - Current path: `[5, 8]`.\n",
    "6. **Go left to node** `7`:\n",
    "    - Current path: `[5, 8, 7]`.\n",
    "    - `7` is a leaf node, so this path is added to the result: `[[5, 3, 1], [5, 3, 4], [5, 8, 7]]`.\n",
    "\n",
    "7. **Backtrack to node** `8` **and go right to node** `9`:\n",
    "    - Current path: `[5, 8, 9]`.\n",
    "    - `9` is a leaf node, so this path is added to the result: `[[5, 3, 1], [5, 3, 4], [5, 8, 7], [5, 8, 9]]`.\n",
    "\n",
    "8. **Traversal is complete**.\n",
    "\n",
    "</div>"
   ]
  },
  {
   "cell_type": "markdown",
   "metadata": {},
   "source": [
    "\n",
    "-   Copy the solution your partner wrote. \n"
   ]
  },
  {
   "cell_type": "code",
   "execution_count": 1,
   "metadata": {},
   "outputs": [],
   "source": [
    "from typing import List, Optional\n",
    "from collections import deque\n",
    "\n",
    "# Definition for a binary tree node.\n",
    "class TreeNode:\n",
    "    def __init__(self, val=0, left=None, right=None):\n",
    "        self.val = val\n",
    "        self.left = left\n",
    "        self.right = right\n",
    "\n",
    "def bt_path(root: Optional[TreeNode]) -> List[List[int]]:\n",
    "    if not root:\n",
    "        return []\n",
    "    \n",
    "    result = []\n",
    "    queue = deque([(root, [root.val])])  # Queue stores tuples of (node, current_path)\n",
    "\n",
    "    while queue:\n",
    "        node, path = queue.popleft()\n",
    "\n",
    "        # If leaf node, add the current path to the result\n",
    "        if not node.left and not node.right:\n",
    "            result.append(path)\n",
    "        \n",
    "        # Append the children to the queue with the updated path\n",
    "        if node.left:\n",
    "            queue.append((node.left, path + [node.left.val]))\n",
    "        if node.right:\n",
    "            queue.append((node.right, path + [node.right.val]))\n",
    "\n",
    "    return result"
   ]
  },
  {
   "cell_type": "code",
   "execution_count": 2,
   "metadata": {},
   "outputs": [
    {
     "name": "stdout",
     "output_type": "stream",
     "text": [
      "[[10, 2, 1], [10, 2, 5], [10, 15, 20]]\n",
      "[[10, 9], [10, 7, 8]]\n"
     ]
    }
   ],
   "source": [
    "# Code Demo - Example 1\n",
    "root1 = TreeNode(10)\n",
    "root1.left = TreeNode(2)\n",
    "root1.right = TreeNode(15)\n",
    "root1.left.left = TreeNode(1)\n",
    "root1.left.right = TreeNode(5)\n",
    "root1.right.right = TreeNode(20)\n",
    "\n",
    "# Code Demo - Example 2\n",
    "root2 = TreeNode(10)\n",
    "root2.left = TreeNode(9)\n",
    "root2.right = TreeNode(7)\n",
    "root2.right.left = TreeNode(8)\n",
    "\n",
    "print(bt_path(root1)) \n",
    "print(bt_path(root2))"
   ]
  },
  {
   "cell_type": "markdown",
   "metadata": {},
   "source": [
    "\n",
    "-   Explain why their solution works in your own words.\n"
   ]
  },
  {
   "cell_type": "markdown",
   "metadata": {},
   "source": [
    "<div style=\"background-color: #f0f8ff; padding: 10px; border-radius: 5px;\">\n",
    "\n",
    "#### Explanation on how does the solution work\n",
    "\n",
    "The solution works effectively because it uses a Breadth-First Search (BFS) traversal to explore all paths from the root of the tree to its leaves in a systematic and complete manner. \n",
    "\n",
    "Here’s why I think the solution is correct and efficient:\n",
    "- The algorithm starts with the root and explores all possible paths iteratively.\n",
    "- For each node, it tracks:\n",
    "    + The path to reach that node.\n",
    "    + Whether it is a leaf (if so, the path is added to the result).\n",
    "    + Its children (adding them to the queue along with the updated path).\n",
    "- BFS ensures that every path from the root to a leaf is covered without missing any nodes.\n",
    "\n",
    "This approach works because it satisfies the problem requirements by:\n",
    "- Exploring all paths: The queue systematically processes all nodes, ensuring no paths are skipped.\n",
    "- Identifying leaf nodes accurately: By checking for not node.left and not node.right, the solution captures only root-to-leaf paths.\n",
    "- Maintaining paths dynamically: By passing updated paths as part of the queue entries, the solution ensures that every path is built incrementally and correctly.\n",
    "\n",
    "Strengths of This Solution\n",
    "- Iterative BFS: Avoids recursion and stack limitations.\n",
    "- Complete: Guarantees that all root-to-leaf paths are found.\n",
    "- Simple and Clean: The logic is straightforward, making it easy to understand and maintain.\n",
    "\n",
    "In summary, the solution works because it uses BFS to explore all possible paths, dynamically builds each path, and accurately identifies leaf nodes to construct the output. This systematic approach ensures correctness and efficiency.\n",
    "\n",
    "</div>"
   ]
  },
  {
   "cell_type": "markdown",
   "metadata": {},
   "source": [
    "\n",
    "-   Explain the problem’s time and space complexity in your own words.\n"
   ]
  },
  {
   "cell_type": "markdown",
   "metadata": {},
   "source": [
    "<div style=\"background-color: #f0f8ff; padding: 10px; border-radius: 5px;\">\n",
    "\n",
    "#### Time Complexity: `O(N)`\n",
    "- The algorithm processes each node in the tree exactly once, as each node is:\n",
    "    + Dequeued.\n",
    "    + Evaluated for leaf status.\n",
    "    + Its children (if any) are enqueued.\n",
    "- Even when building paths (`path + [node.val]`), the total work done across all nodes is proportional to the number of nodes `N`.\n",
    "- **Conclusion:** The algorithm takes `O(N)` time for `N` nodes.\n",
    "\n",
    "\n",
    "\n",
    "#### Space Complexity: \n",
    "- Queue Space: `O(N)`\n",
    "    + The queue holds the nodes being processed.\n",
    "    + In the worst case (a balanced tree), the last level of the tree can contain up to `O(N/2)` nodes.\n",
    "    + For an unbalanced tree, the queue may grow up to `O(H)`, where `H` is the height of the tree.  \n",
    "- Path Storage: `O(N * H)`\n",
    "    * The result stores all root-to-leaf paths\n",
    "        + There are at most `O(N)` paths (one for each leaf).\n",
    "        + Each path can be as long as the tree's height `H`.\n",
    "        + Worst-case (skewed tree): `H = N`, so `O(N * H) = O(N^2)`.\n",
    "        + Best-case (balanced tree): `H = logN`, so `O(N * H) = O(N * logN)`.\n",
    "- **Conclusion:**\n",
    "    + Balanced tree: `O(N + N * logN)` is approx. `O(N * logN)`\n",
    "    + Skewed tree: `O(N + N^2)` is approx. `O(N^2)`\n",
    "\n",
    "</div>"
   ]
  },
  {
   "cell_type": "markdown",
   "metadata": {},
   "source": [
    "\n",
    "-   Critique your partner's solution, including explanation, and if there is anything that should be adjusted.\n"
   ]
  },
  {
   "cell_type": "markdown",
   "metadata": {},
   "source": [
    "<div style=\"background-color: #f0f8ff; padding: 10px; border-radius: 5px;\">\n",
    "\n",
    "#### Strengths of the Solution\n",
    "1. **Correctness:**\n",
    "    - The solution correctly identifies leaf nodes and appends the corresponding paths to the result list.\n",
    "    - It handles edge cases, such as an empty tree, appropriately.\n",
    "\n",
    "2. **Breadth-First Search (BFS):**\n",
    "    - The use of BFS ensures that the algorithm is iterative, avoiding the risks of stack overflow from recursive depth-first traversal.\n",
    "    - It processes nodes level-by-level, which is a clear and systematic approach.\n",
    "\n",
    "3. **Readability:**\n",
    "    - The code is clean and easy to follow, with meaningful variable names (`node`, `path`, `queue`) and a clear separation of concerns.\n",
    "\n",
    "4. **Efficient Queue Management:**\n",
    "    - Using a `deque` for the queue ensures efficient operations with `O(1)` append and pop operations.\n",
    "\n",
    "\n",
    "#### Weaknesses of the Solution\n",
    "1. **Path Building Overhead:**\n",
    "    - The code uses `path + [node.val]` to build new paths when enqueueing child nodes.\n",
    "    - This involves creating a new list every time a child node is processed, which introduces overhead, especially for deeper trees.\n",
    "    - Impact: For deeper trees, this list concatenation increases the time complexity for building paths.\n",
    "\n",
    "2. **Space Usage:**\n",
    "    - The space complexity for storing paths in the result list can grow large, particularly for unbalanced or deep trees.\n",
    "    - This is inherent to the problem but should be noted for very large trees.\n",
    "\n",
    "3. **Limited Scalability for Extremely Large Trees:**\n",
    "    - While the BFS approach avoids recursion depth issues, it still requires memory for the queue and path storage.\n",
    "    - For extremely deep trees, the queue could grow very large, potentially consuming significant memory.\n",
    "\n",
    "</div>"
   ]
  },
  {
   "cell_type": "markdown",
   "metadata": {},
   "source": [
    "#### Adjusted Code"
   ]
  },
  {
   "cell_type": "code",
   "execution_count": 3,
   "metadata": {},
   "outputs": [],
   "source": [
    "from typing import List, Optional\n",
    "from collections import deque\n",
    "\n",
    "# Definition for a binary tree node.\n",
    "class TreeNode:\n",
    "    def __init__(self, val=0, left=None, right=None):\n",
    "        self.val = val\n",
    "        self.left = left\n",
    "        self.right = right\n",
    "\n",
    "def bt_path(root: Optional[TreeNode]) -> List[List[int]]:\n",
    "    if not root:\n",
    "        return []\n",
    "    \n",
    "    result = []\n",
    "    queue = deque([(root, [])])  # Start with an empty path\n",
    "\n",
    "    while queue:\n",
    "        node, path = queue.popleft()\n",
    "        current_path = path + [node.val]  # Build path iteratively without mutating\n",
    "\n",
    "        # If leaf node, add the current path to the result\n",
    "        if not node.left and not node.right:\n",
    "            result.append(current_path)\n",
    "        \n",
    "        # Append the children to the queue with the updated path\n",
    "        if node.left:\n",
    "            queue.append((node.left, current_path))\n",
    "        if node.right:\n",
    "            queue.append((node.right, current_path))\n",
    "\n",
    "    return result"
   ]
  },
  {
   "cell_type": "code",
   "execution_count": 4,
   "metadata": {},
   "outputs": [
    {
     "name": "stdout",
     "output_type": "stream",
     "text": [
      "[[10, 2, 1], [10, 2, 5], [10, 15, 20]]\n",
      "[[10, 9], [10, 7, 8]]\n"
     ]
    }
   ],
   "source": [
    "# Code Demo - Example 1\n",
    "root1 = TreeNode(10)\n",
    "root1.left = TreeNode(2)\n",
    "root1.right = TreeNode(15)\n",
    "root1.left.left = TreeNode(1)\n",
    "root1.left.right = TreeNode(5)\n",
    "root1.right.right = TreeNode(20)\n",
    "\n",
    "# Code Demo - Example 2\n",
    "root2 = TreeNode(10)\n",
    "root2.left = TreeNode(9)\n",
    "root2.right = TreeNode(7)\n",
    "root2.right.left = TreeNode(8)\n",
    "\n",
    "print(bt_path(root1)) \n",
    "print(bt_path(root2))"
   ]
  },
  {
   "cell_type": "markdown",
   "metadata": {},
   "source": [
    "<div style=\"background-color: #f0f8ff; padding: 10px; border-radius: 5px;\">\n",
    "\n",
    "#### Recommendations for Improvement\n",
    "1. Path Construction Optimization\n",
    "    - Original code creates a new list every time a child is processed, which is less efficient for large or deep trees.\n",
    "        + line 27: `queue.append((node.left, path + [node.left.val]))`\n",
    "        + line 29: `queue.append((node.right, path + [node.left.val]))`\n",
    "    - Adjusted code constructes the paths only once per node (with `current_path`) and reused, reducing redundant operations.\n",
    "        + line 20: `current_path = path + [node.val]`\n",
    "        + line 28: `queue.append((node.left, current_path))`\n",
    "        + line 30: `queue.append((node.right, current_path))`\n",
    "\n",
    "2. Minor Structural Cleanup in line 16: from `queue = deque([(root, [root.val])])` to `queue = deque([(root, [])])`\n",
    "    - The adjusted version uses an empty list `[]` for the initial path instead of `[root.val]`, keeping path construction consistent and always appended inside the loop.\n",
    "    - The `current_path` is explicitly created once per iteration, improving readability.\n",
    "\n",
    "##### Why These Changes Matter\n",
    "- Efficiency: Optimizing path creation avoids unnecessary list copying, especially for large or deep trees.\n",
    "- Readability: Clearer variable naming and comments make the logic easier to follow and maintain.\n",
    "\n",
    "</div>"
   ]
  },
  {
   "cell_type": "markdown",
   "metadata": {},
   "source": [
    "\n",
    "## Part 3:\n",
    "\n",
    "Please write a 200 word reflection documenting your process from assignment 1, and your presentation and review experience with your partner at the bottom of the Jupyter Notebook under a new heading \"Reflection.\" Again, export this Notebook as pdf.\n"
   ]
  },
  {
   "cell_type": "markdown",
   "metadata": {},
   "source": [
    "### Reflection on Assignments 1 and 2"
   ]
  },
  {
   "cell_type": "code",
   "execution_count": 5,
   "metadata": {},
   "outputs": [
    {
     "data": {
      "text/plain": [
       "'./Reflection_Assignments_SJL.pdf'"
      ]
     },
     "execution_count": 5,
     "metadata": {},
     "output_type": "execute_result"
    }
   ],
   "source": [
    "from fpdf import FPDF\n",
    "\n",
    "# Function to replace unsupported characters with ASCII equivalents\n",
    "def clean_text(text):\n",
    "    return text.replace(\"’\", \"'\").replace(\"“\", '\"').replace(\"”\", '\"')\n",
    "\n",
    "# Create a new PDF\n",
    "pdf = FPDF()\n",
    "pdf.set_auto_page_break(auto=True, margin=15)\n",
    "pdf.add_page()\n",
    "pdf.set_font(\"Arial\", size=12)\n",
    "\n",
    "# Add the first reflection heading and content\n",
    "pdf.set_font(\"Arial\", style=\"B\", size=14)\n",
    "pdf.cell(200, 10, txt=\"Reflection on Assignment 1: Missing Number(s) in Range\", ln=True, align='L')\n",
    "reflection_text_1 = \"\"\"\n",
    "Working on Assignment 1 allowed me to explore multiple approaches to the \"Missing Number(s) in Range\" problem and refine my problem-solving process.\n",
    "\n",
    "I began with Approach 1 (Set Difference), which was intuitive and straightforward. Using Python's set operations, I compared a complete range to the input. While it was clean and easy to implement, initial tests revealed mistakes, particularly with edge cases. Although fixing these helped deepen my understanding, I realized this approach becomes inefficient for large ranges due to its O(max_value + n + k log k) time complexity.\n",
    "\n",
    "Next, I tackled Approach 2 (Boolean Array) to optimize performance. This approach marked seen numbers in a boolean array and identified missing values through a simple iteration. With a time complexity of O(max_value + n), this was the most efficient solution, particularly for large datasets. This process reinforced the importance of selecting the right data structure for performance gains.\n",
    "\n",
    "Finally, I developed Approach 3 (Sort + Two Pointers) to explain an alternative. Sorting the input and comparing it to the range allowed me to explicitly handle duplicates, making it a practical middle-ground solution. This assignment enhanced my understanding of algorithms, trade-offs, and adapting solutions to meet different requirements.\n",
    "\"\"\"\n",
    "pdf.set_font(\"Arial\", size=12)\n",
    "pdf.multi_cell(0, 10, clean_text(reflection_text_1))\n",
    "\n",
    "# Add the second reflection heading and content\n",
    "pdf.add_page()  # Start a new page for clarity\n",
    "pdf.set_font(\"Arial\", style=\"B\", size=14)\n",
    "pdf.cell(200, 10, txt=\"Reflection on Assignment 2: Path to Leaves\", ln=True, align='L')\n",
    "reflection_text_2 = \"\"\"\n",
    "Collaborating with my partner on this solution was a constructive experience. Their implementation effectively used Breadth-First Search (BFS) to systematically traverse the binary tree and capture all root-to-leaf paths. Their explanation of BFS mechanics and its iterative approach was clear and insightful. Additionally, their emphasis on correctness and efficient queue management provided a solid foundation for understanding the solution's strengths.\n",
    "\n",
    "However, through reviewing the solution, I identified a few areas for optimization. The original code's path construction introduced overhead, especially for deep or unbalanced trees. Adjusting this to construct paths once per node and reusing them improved efficiency. A minor structural cleanup in queue initialization also made path handling more consistent and readable.\n",
    "\n",
    "The weaknesses of the solution, such as space usage and scalability challenges for large or deep trees, were inherent to BFS but are worth noting. Including these considerations highlighted the importance of choosing the right algorithm based on the tree's characteristics. Furthermore, documenting edge cases and refining explanations strengthened the solution’s presentation.\n",
    "\n",
    "Overall, this collaboration emphasized the value of iterative feedback and showcased how constructive critique and small adjustments can enhance both the solution's clarity and performance.\n",
    "\"\"\"\n",
    "pdf.set_font(\"Arial\", size=12)\n",
    "pdf.multi_cell(0, 10, clean_text(reflection_text_2))\n",
    "\n",
    "# Save the PDF to the desired location\n",
    "output_path = \"./Reflection_Assignments_SJL.pdf\"\n",
    "pdf.output(output_path)\n",
    "\n",
    "output_path"
   ]
  },
  {
   "cell_type": "markdown",
   "metadata": {},
   "source": [
    "\n",
    "## Evaluation Criteria\n",
    "\n",
    "We are looking for the similar points as Assignment 1\n",
    "\n",
    "-   Problem is accurately stated\n",
    "\n",
    "-   New example is correct and easily understandable\n",
    "\n",
    "-   Correctness, time, and space complexity of the coding solution\n",
    "\n",
    "-   Clarity in explaining why the solution works, its time and space complexity\n",
    "\n",
    "-   Quality of critique of your partner's assignment, if necessary\n"
   ]
  },
  {
   "cell_type": "markdown",
   "metadata": {},
   "source": [
    "## Submission Information\n",
    "\n",
    "🚨 **Please review our [Assignment Submission Guide](https://github.com/UofT-DSI/onboarding/blob/main/onboarding_documents/submissions.md)** 🚨 for detailed instructions on how to format, branch, and submit your work. Following these guidelines is crucial for your submissions to be evaluated correctly.\n",
    "\n",
    "### Submission Parameters:\n",
    "* Submission Due Date: `HH:MM AM/PM - DD/MM/YYYY`\n",
    "* The branch name for your repo should be: `assignment-2`\n",
    "* What to submit for this assignment:\n",
    "    * This Jupyter Notebook (assignment_2.ipynb) should be populated and should be the only change in your pull request.\n",
    "* What the pull request link should look like for this assignment: `https://github.com/<your_github_username>/algorithms_and_data_structures/pull/<pr_id>`\n",
    "    * Open a private window in your browser. Copy and paste the link to your pull request into the address bar. Make sure you can see your pull request properly. This helps the technical facilitator and learning support staff review your submission easily.\n",
    "\n",
    "Checklist:\n",
    "- [ ] Created a branch with the correct naming convention.\n",
    "- [ ] Ensured that the repository is public.\n",
    "- [ ] Reviewed the PR description guidelines and adhered to them.\n",
    "- [ ] Verify that the link is accessible in a private browser window.\n",
    "\n",
    "If you encounter any difficulties or have questions, please don't hesitate to reach out to our team via our Slack at `#cohort-3-help`. Our Technical Facilitators and Learning Support staff are here to help you navigate any challenges.\n"
   ]
  }
 ],
 "metadata": {
  "kernelspec": {
   "display_name": "dsi_participant",
   "language": "python",
   "name": "python3"
  },
  "language_info": {
   "codemirror_mode": {
    "name": "ipython",
    "version": 3
   },
   "file_extension": ".py",
   "mimetype": "text/x-python",
   "name": "python",
   "nbconvert_exporter": "python",
   "pygments_lexer": "ipython3",
   "version": "3.9.15"
  }
 },
 "nbformat": 4,
 "nbformat_minor": 2
}
